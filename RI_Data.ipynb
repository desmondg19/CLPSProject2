{
  "nbformat": 4,
  "nbformat_minor": 0,
  "metadata": {
    "colab": {
      "name": "RI_Data.ipynb",
      "provenance": [],
      "mount_file_id": "1O1YqezKYztgxYQ9lVRUz5nO5-KdipEIh",
      "authorship_tag": "ABX9TyNl+KL0D7fLrLr1sr/zsVEw",
      "include_colab_link": true
    },
    "kernelspec": {
      "name": "python3",
      "display_name": "Python 3"
    },
    "language_info": {
      "name": "python"
    }
  },
  "cells": [
    {
      "cell_type": "markdown",
      "metadata": {
        "id": "view-in-github",
        "colab_type": "text"
      },
      "source": [
        "<a href=\"https://colab.research.google.com/github/desmondg19/CLPSProject2/blob/main/RI_Data.ipynb\" target=\"_parent\"><img src=\"https://colab.research.google.com/assets/colab-badge.svg\" alt=\"Open In Colab\"/></a>"
      ]
    },
    {
      "cell_type": "code",
      "metadata": {
        "id": "n8nejLIegHWR"
      },
      "source": [
        "import pandas as pd\n",
        "import matplotlib.pyplot as plt\n",
        "import numpy as np\n",
        "import scipy "
      ],
      "execution_count": 12,
      "outputs": []
    },
    {
      "cell_type": "code",
      "metadata": {
        "id": "GuYZQ9rYhB9L"
      },
      "source": [
        "!pip install -U -q PyDrive\n",
        "from pydrive.auth import GoogleAuth\n",
        "from pydrive.drive import GoogleDrive\n",
        "from google.colab import auth\n",
        "from oauth2client.client import GoogleCredentials\n",
        "# Authenticate and create the PyDrive client.\n",
        "auth.authenticate_user()\n",
        "gauth = GoogleAuth()\n",
        "gauth.credentials = GoogleCredentials.get_application_default()\n",
        "drive = GoogleDrive(gauth)"
      ],
      "execution_count": 65,
      "outputs": []
    },
    {
      "cell_type": "code",
      "metadata": {
        "colab": {
          "base_uri": "https://localhost:8080/",
          "height": 204
        },
        "id": "WO1Ngh1Ji7ZY",
        "outputId": "332b952e-a515-4a97-aba2-e50b0ec920d5"
      },
      "source": [
        "#Read dataset Summary of Rhode Island Covid Data\n",
        "Download_Data= drive.CreateFile({'id':'1t9lw59CK9ET3MIEVIp2WrZyqXC_0KW2R'})\n",
        "Download_Data.GetContentFile('COVID-19 Rhode Island Data - Summary.csv')\n",
        "RI_Data_Summary=pd.read_csv('COVID-19 Rhode Island Data - Summary.csv')\n",
        "RI_Data_Summary.head()"
      ],
      "execution_count": 3,
      "outputs": [
        {
          "output_type": "execute_result",
          "data": {
            "text/html": [
              "<div>\n",
              "<style scoped>\n",
              "    .dataframe tbody tr th:only-of-type {\n",
              "        vertical-align: middle;\n",
              "    }\n",
              "\n",
              "    .dataframe tbody tr th {\n",
              "        vertical-align: top;\n",
              "    }\n",
              "\n",
              "    .dataframe thead th {\n",
              "        text-align: right;\n",
              "    }\n",
              "</style>\n",
              "<table border=\"1\" class=\"dataframe\">\n",
              "  <thead>\n",
              "    <tr style=\"text-align: right;\">\n",
              "      <th></th>\n",
              "      <th>Last updated:</th>\n",
              "      <th>4/9/2021</th>\n",
              "    </tr>\n",
              "  </thead>\n",
              "  <tbody>\n",
              "    <tr>\n",
              "      <th>0</th>\n",
              "      <td>Daily number of positive tests (may count peop...</td>\n",
              "      <td>494</td>\n",
              "    </tr>\n",
              "    <tr>\n",
              "      <th>1</th>\n",
              "      <td>3-day average of daily number of positive test...</td>\n",
              "      <td>546</td>\n",
              "    </tr>\n",
              "    <tr>\n",
              "      <th>2</th>\n",
              "      <td>Cumulative positive tests (may count people mo...</td>\n",
              "      <td>167334</td>\n",
              "    </tr>\n",
              "    <tr>\n",
              "      <th>3</th>\n",
              "      <td>Daily number of negative tests (may count peop...</td>\n",
              "      <td>17122</td>\n",
              "    </tr>\n",
              "    <tr>\n",
              "      <th>4</th>\n",
              "      <td>Cumulative negative tests (may count people mo...</td>\n",
              "      <td>3512737</td>\n",
              "    </tr>\n",
              "  </tbody>\n",
              "</table>\n",
              "</div>"
            ],
            "text/plain": [
              "                                       Last updated:  4/9/2021\n",
              "0  Daily number of positive tests (may count peop...       494\n",
              "1  3-day average of daily number of positive test...       546\n",
              "2  Cumulative positive tests (may count people mo...    167334\n",
              "3  Daily number of negative tests (may count peop...     17122\n",
              "4  Cumulative negative tests (may count people mo...   3512737"
            ]
          },
          "metadata": {
            "tags": []
          },
          "execution_count": 3
        }
      ]
    },
    {
      "cell_type": "code",
      "metadata": {
        "colab": {
          "base_uri": "https://localhost:8080/",
          "height": 649
        },
        "id": "Sd7mF4jjkrSu",
        "outputId": "6247a6ab-5388-4a19-b30b-807642210934"
      },
      "source": [
        "#Read in dataset Rhode Island Demographics\n",
        "Download_Data2= drive.CreateFile({'id':'1l8HabO1Jua2aylMYNgpX4wuct4UpIWJv'})\n",
        "Download_Data2.GetContentFile('COVID-19 Rhode Island Data - Demographics.csv')\n",
        "RI_Data_Demographics=pd.read_csv('COVID-19 Rhode Island Data - Demographics.csv', skiprows=1)\n",
        "RI_Data_Demographics.info()\n",
        "RI_Data_Demographics.head()\n"
      ],
      "execution_count": 66,
      "outputs": [
        {
          "output_type": "stream",
          "text": [
            "<class 'pandas.core.frame.DataFrame'>\n",
            "Index: 57 entries, Age Group to Last Updated:\n",
            "Data columns (total 14 columns):\n",
            " #   Column                                    Non-Null Count  Dtype \n",
            "---  ------                                    --------------  ----- \n",
            " 0    (Positive and Negative)\"                 47 non-null     object\n",
            " 1   Unnamed: 1                                45 non-null     object\n",
            " 2   Cases                                     46 non-null     object\n",
            " 3   Unnamed: 3                                45 non-null     object\n",
            " 4   Hospitalizations                          46 non-null     object\n",
            " 5   Unnamed: 5                                45 non-null     object\n",
            " 6   Deaths                                    46 non-null     object\n",
            " 7   Unnamed: 7                                45 non-null     object\n",
            " 8   All People At Least Partially Vaccinated  46 non-null     object\n",
            " 9   Unnamed: 9                                45 non-null     object\n",
            " 10  All People Fully Vaccinated               46 non-null     object\n",
            " 11  Unnamed: 11                               45 non-null     object\n",
            " 12  Total Vaccine Doses Administered          46 non-null     object\n",
            " 13  Unnamed: 13                               45 non-null     object\n",
            "dtypes: object(14)\n",
            "memory usage: 6.7+ KB\n"
          ],
          "name": "stdout"
        },
        {
          "output_type": "execute_result",
          "data": {
            "text/html": [
              "<div>\n",
              "<style scoped>\n",
              "    .dataframe tbody tr th:only-of-type {\n",
              "        vertical-align: middle;\n",
              "    }\n",
              "\n",
              "    .dataframe tbody tr th {\n",
              "        vertical-align: top;\n",
              "    }\n",
              "\n",
              "    .dataframe thead th {\n",
              "        text-align: right;\n",
              "    }\n",
              "</style>\n",
              "<table border=\"1\" class=\"dataframe\">\n",
              "  <thead>\n",
              "    <tr style=\"text-align: right;\">\n",
              "      <th></th>\n",
              "      <th>(Positive and Negative)\"</th>\n",
              "      <th>Unnamed: 1</th>\n",
              "      <th>Cases</th>\n",
              "      <th>Unnamed: 3</th>\n",
              "      <th>Hospitalizations</th>\n",
              "      <th>Unnamed: 5</th>\n",
              "      <th>Deaths</th>\n",
              "      <th>Unnamed: 7</th>\n",
              "      <th>All People At Least Partially Vaccinated</th>\n",
              "      <th>Unnamed: 9</th>\n",
              "      <th>All People Fully Vaccinated</th>\n",
              "      <th>Unnamed: 11</th>\n",
              "      <th>Total Vaccine Doses Administered</th>\n",
              "      <th>Unnamed: 13</th>\n",
              "    </tr>\n",
              "  </thead>\n",
              "  <tbody>\n",
              "    <tr>\n",
              "      <th>Age Group</th>\n",
              "      <td>N=794,928</td>\n",
              "      <td>NaN</td>\n",
              "      <td>N=119,036</td>\n",
              "      <td>NaN</td>\n",
              "      <td>N=9,606</td>\n",
              "      <td>NaN</td>\n",
              "      <td>N=2,627</td>\n",
              "      <td>NaN</td>\n",
              "      <td>N=353,267</td>\n",
              "      <td>NaN</td>\n",
              "      <td>N=242,222</td>\n",
              "      <td>NaN</td>\n",
              "      <td>N=579,428</td>\n",
              "      <td>NaN</td>\n",
              "    </tr>\n",
              "    <tr>\n",
              "      <th>0-4</th>\n",
              "      <td>26290</td>\n",
              "      <td>3%</td>\n",
              "      <td>2720</td>\n",
              "      <td>2%</td>\n",
              "      <td>81</td>\n",
              "      <td>1%</td>\n",
              "      <td>&lt;5</td>\n",
              "      <td>--</td>\n",
              "      <td>0</td>\n",
              "      <td>0%</td>\n",
              "      <td>0</td>\n",
              "      <td>0%</td>\n",
              "      <td>0</td>\n",
              "      <td>0%</td>\n",
              "    </tr>\n",
              "    <tr>\n",
              "      <th>5-9</th>\n",
              "      <td>34482</td>\n",
              "      <td>4%</td>\n",
              "      <td>3392</td>\n",
              "      <td>3%</td>\n",
              "      <td>25</td>\n",
              "      <td>&lt;1%</td>\n",
              "      <td>0</td>\n",
              "      <td>0%</td>\n",
              "      <td>0</td>\n",
              "      <td>0%</td>\n",
              "      <td>0</td>\n",
              "      <td>0%</td>\n",
              "      <td>0</td>\n",
              "      <td>0%</td>\n",
              "    </tr>\n",
              "    <tr>\n",
              "      <th>10-14</th>\n",
              "      <td>35939</td>\n",
              "      <td>5%</td>\n",
              "      <td>4330</td>\n",
              "      <td>4%</td>\n",
              "      <td>35</td>\n",
              "      <td>&lt;1%</td>\n",
              "      <td>&lt;5</td>\n",
              "      <td>--</td>\n",
              "      <td>&lt;5</td>\n",
              "      <td>--</td>\n",
              "      <td>0</td>\n",
              "      <td>0%</td>\n",
              "      <td>&lt;5</td>\n",
              "      <td>--</td>\n",
              "    </tr>\n",
              "    <tr>\n",
              "      <th>15-18</th>\n",
              "      <td>40934</td>\n",
              "      <td>5%</td>\n",
              "      <td>5852</td>\n",
              "      <td>5%</td>\n",
              "      <td>65</td>\n",
              "      <td>1%</td>\n",
              "      <td>0</td>\n",
              "      <td>0%</td>\n",
              "      <td>2304</td>\n",
              "      <td>1%</td>\n",
              "      <td>707</td>\n",
              "      <td>&lt;1%</td>\n",
              "      <td>2936</td>\n",
              "      <td>1%</td>\n",
              "    </tr>\n",
              "  </tbody>\n",
              "</table>\n",
              "</div>"
            ],
            "text/plain": [
              "           (Positive and Negative)\"  ... Unnamed: 13\n",
              "Age Group                 N=794,928  ...         NaN\n",
              "0-4                           26290  ...          0%\n",
              "5-9                           34482  ...          0%\n",
              "10-14                         35939  ...          --\n",
              "15-18                         40934  ...          1%\n",
              "\n",
              "[5 rows x 14 columns]"
            ]
          },
          "metadata": {
            "tags": []
          },
          "execution_count": 66
        }
      ]
    },
    {
      "cell_type": "code",
      "metadata": {
        "colab": {
          "base_uri": "https://localhost:8080/",
          "height": 244
        },
        "id": "1m17rQ_enUaT",
        "outputId": "da7e17f3-5f31-4c87-a258-52ca4cd04dde"
      },
      "source": [
        "RI_Data_Demographics.describe()"
      ],
      "execution_count": 5,
      "outputs": [
        {
          "output_type": "execute_result",
          "data": {
            "text/html": [
              "<div>\n",
              "<style scoped>\n",
              "    .dataframe tbody tr th:only-of-type {\n",
              "        vertical-align: middle;\n",
              "    }\n",
              "\n",
              "    .dataframe tbody tr th {\n",
              "        vertical-align: top;\n",
              "    }\n",
              "\n",
              "    .dataframe thead th {\n",
              "        text-align: right;\n",
              "    }\n",
              "</style>\n",
              "<table border=\"1\" class=\"dataframe\">\n",
              "  <thead>\n",
              "    <tr style=\"text-align: right;\">\n",
              "      <th></th>\n",
              "      <th>(Positive and Negative)\"</th>\n",
              "      <th>Unnamed: 1</th>\n",
              "      <th>Cases</th>\n",
              "      <th>Unnamed: 3</th>\n",
              "      <th>Hospitalizations</th>\n",
              "      <th>Unnamed: 5</th>\n",
              "      <th>Deaths</th>\n",
              "      <th>Unnamed: 7</th>\n",
              "      <th>All People At Least Partially Vaccinated</th>\n",
              "      <th>Unnamed: 9</th>\n",
              "      <th>All People Fully Vaccinated</th>\n",
              "      <th>Unnamed: 11</th>\n",
              "      <th>Total Vaccine Doses Administered</th>\n",
              "      <th>Unnamed: 13</th>\n",
              "    </tr>\n",
              "  </thead>\n",
              "  <tbody>\n",
              "    <tr>\n",
              "      <th>count</th>\n",
              "      <td>47</td>\n",
              "      <td>45</td>\n",
              "      <td>46</td>\n",
              "      <td>45</td>\n",
              "      <td>46</td>\n",
              "      <td>45</td>\n",
              "      <td>46</td>\n",
              "      <td>45</td>\n",
              "      <td>46</td>\n",
              "      <td>45</td>\n",
              "      <td>46</td>\n",
              "      <td>45</td>\n",
              "      <td>46</td>\n",
              "      <td>45</td>\n",
              "    </tr>\n",
              "    <tr>\n",
              "      <th>unique</th>\n",
              "      <td>31</td>\n",
              "      <td>16</td>\n",
              "      <td>46</td>\n",
              "      <td>23</td>\n",
              "      <td>41</td>\n",
              "      <td>19</td>\n",
              "      <td>18</td>\n",
              "      <td>15</td>\n",
              "      <td>25</td>\n",
              "      <td>17</td>\n",
              "      <td>24</td>\n",
              "      <td>16</td>\n",
              "      <td>25</td>\n",
              "      <td>16</td>\n",
              "    </tr>\n",
              "    <tr>\n",
              "      <th>top</th>\n",
              "      <td>--</td>\n",
              "      <td>--</td>\n",
              "      <td>602</td>\n",
              "      <td>--</td>\n",
              "      <td>0</td>\n",
              "      <td>--</td>\n",
              "      <td>--</td>\n",
              "      <td>--</td>\n",
              "      <td>--</td>\n",
              "      <td>--</td>\n",
              "      <td>--</td>\n",
              "      <td>--</td>\n",
              "      <td>--</td>\n",
              "      <td>--</td>\n",
              "    </tr>\n",
              "    <tr>\n",
              "      <th>freq</th>\n",
              "      <td>17</td>\n",
              "      <td>21</td>\n",
              "      <td>1</td>\n",
              "      <td>9</td>\n",
              "      <td>3</td>\n",
              "      <td>11</td>\n",
              "      <td>17</td>\n",
              "      <td>29</td>\n",
              "      <td>18</td>\n",
              "      <td>23</td>\n",
              "      <td>18</td>\n",
              "      <td>22</td>\n",
              "      <td>18</td>\n",
              "      <td>23</td>\n",
              "    </tr>\n",
              "  </tbody>\n",
              "</table>\n",
              "</div>"
            ],
            "text/plain": [
              "        (Positive and Negative)\"  ... Unnamed: 13\n",
              "count                         47  ...          45\n",
              "unique                        31  ...          16\n",
              "top                           --  ...          --\n",
              "freq                          17  ...          23\n",
              "\n",
              "[4 rows x 14 columns]"
            ]
          },
          "metadata": {
            "tags": []
          },
          "execution_count": 5
        }
      ]
    },
    {
      "cell_type": "code",
      "metadata": {
        "colab": {
          "base_uri": "https://localhost:8080/"
        },
        "id": "Ub_ofbr4S_9t",
        "outputId": "9db821a1-6de5-454b-b328-e2b5f1787671"
      },
      "source": [
        "#Read in dataset RI COVID cases by Race\n",
        "Download_Data3= drive.CreateFile({'id':'1dddZYTsRMpMDQCIjKSWSIehCJSChlQL2'})\n",
        "Download_Data3.GetContentFile('COVID-19 Rhode Island Data - Case Trends by Race.csv')\n",
        "RI_Data_Race=pd.read_csv('COVID-19 Rhode Island Data - Case Trends by Race.csv', skiprows=6, skip_blank_lines='true')\n",
        "#Change the title of each column\n",
        "new_names={'Hispanic or Latino†': 'Hispanic or Latino', 'American Indian or Alaska Native*': 'American Indian or Alaska Native', 'Asian*':'Asian', 'Black or African American*':'Black or African American', 'White*':'White', 'Other race*':'Other race', 'Multiple race*':'Multiple race'}\n",
        "RI_Data_Race.rename(columns=new_names, inplace=True)\n",
        "\n",
        "#Insert new column\n",
        "weeks=[i for i in range (0, 57)]\n",
        "RI_Data_Race.insert(0, \"Weeks Since 3/1/20\", weeks)\n",
        "\n",
        "#Replace <5 values with 4\n",
        "mydf=RI_Data_Race.replace('<5', 4)\n",
        "\n",
        "\n",
        "\n",
        "#changed string to int to calculate cumsum\n",
        "Asian=np.cumsum(mydf['Asian'].to_numpy(dtype=np.float32))\n",
        "Hispanic_or_Latino=np.cumsum(mydf['Hispanic or Latino'].to_numpy(dtype=np.float32))\n",
        "American_Indian_or_Alaska_Native=np.cumsum(mydf['American Indian or Alaska Native'].to_numpy(dtype=np.float32))\n",
        "Black_or_African_American=np.cumsum(mydf['Black or African American'].to_numpy(dtype=np.float32))\n",
        "White=np.cumsum(mydf['White'].to_numpy(dtype=np.float32))\n",
        "Other_race=np.cumsum(mydf['Other race'].to_numpy(dtype=np.float32))\n",
        "Multiple_race=np.cumsum(mydf['Multiple race'].to_numpy(dtype=np.float32))\n",
        "\n",
        "#create new dataset\n",
        "Race_rates={'Asian':Asian, 'Hispanic or Latino': Hispanic_or_Latino, 'American Indian or Alaska Native': American_Indian_or_Alaska_Native, 'Black or African American':Black_or_African_American, 'White':White, 'Other Race': Other_race, 'Multiple Races':Multiple_race, 'Weeks Since 3/1/2020':weeks}\n",
        "df_Race_rates = pd.DataFrame(Race_rates)\n",
        "df_Race_rates\n",
        "\n",
        "#print(mydf['Asian'].to_numpy(dtype=np.float32))\n",
        "\n",
        "#RI_Data_Race['Asian'] = 4*(RI_Data_Race.Asian == '<5').astype(int)\n"
      ],
      "execution_count": 34,
      "outputs": [
        {
          "output_type": "stream",
          "text": [
            "    Weeks Since 3/1/20  ...  Total\n",
            "0                    0  ...      4\n",
            "1                    1  ...     18\n",
            "2                    2  ...     69\n",
            "3                    3  ...    217\n",
            "4                    4  ...    605\n",
            "5                    5  ...  1,767\n",
            "6                    6  ...  1,897\n",
            "7                    7  ...  2,492\n",
            "8                    8  ...  1,883\n",
            "9                    9  ...  1,769\n",
            "10                  10  ...  1,396\n",
            "11                  11  ...  1,044\n",
            "12                  12  ...    801\n",
            "13                  13  ...    604\n",
            "14                  14  ...    457\n",
            "15                  15  ...    352\n",
            "16                  16  ...    343\n",
            "17                  17  ...    273\n",
            "18                  18  ...    314\n",
            "19                  19  ...    472\n",
            "20                  20  ...    601\n",
            "21                  21  ...    644\n",
            "22                  22  ...    668\n",
            "23                  23  ...    602\n",
            "24                  24  ...    687\n",
            "25                  25  ...    520\n",
            "26                  26  ...    467\n",
            "27                  27  ...    550\n",
            "28                  28  ...    707\n",
            "29                  29  ...    711\n",
            "30                  30  ...    967\n",
            "31                  31  ...   1203\n",
            "32                  32  ...   1522\n",
            "33                  33  ...   2419\n",
            "34                  34  ...   2788\n",
            "35                  35  ...   3717\n",
            "36                  36  ...   5526\n",
            "37                  37  ...   6386\n",
            "38                  38  ...   5731\n",
            "39                  39  ...   8593\n",
            "40                  40  ...   7914\n",
            "41                  41  ...   5891\n",
            "42                  42  ...   4737\n",
            "43                  43  ...   6530\n",
            "44                  44  ...   7452\n",
            "45                  45  ...   5656\n",
            "46                  46  ...   4852\n",
            "47                  47  ...   3912\n",
            "48                  48  ...   2950\n",
            "49                  49  ...   2421\n",
            "50                  50  ...   2103\n",
            "51                  51  ...   2383\n",
            "52                  52  ...   2185\n",
            "53                  53  ...   2209\n",
            "54                  54  ...   2174\n",
            "55                  55  ...   2634\n",
            "56                  56  ...   2629\n",
            "\n",
            "[57 rows x 13 columns]\n"
          ],
          "name": "stdout"
        }
      ]
    },
    {
      "cell_type": "markdown",
      "metadata": {
        "id": "ybZdWfEX8TQz"
      },
      "source": [
        "try to add comlumn, \"weeks since March 1st, 2020\" so can graph this instead of week of result date"
      ]
    },
    {
      "cell_type": "code",
      "metadata": {
        "colab": {
          "base_uri": "https://localhost:8080/",
          "height": 270
        },
        "id": "Qg24-eCAXG_z",
        "outputId": "d8583c10-e8cb-462c-fc74-2e1838d53878"
      },
      "source": [
        "#Scatter plots for number of cases since March 2020 by race in RI\n",
        "%matplotlib inline\n",
        "\n",
        "fig = plt.figure()\n",
        "ax = fig.add_subplot(2,4,1)\n",
        "df_Race_rates.plot(kind='scatter', x='Weeks Since 3/1/2020', y='Black or African American', ax=ax)\n",
        "plt.xlabel('Weeks Since 3/1/2020')\n",
        "plt.ylabel('Cases')\n",
        "plt.title('Black or African American')\n",
        "\n",
        "\n",
        "ax = fig.add_subplot(2,4,2)\n",
        "df_Race_rates.plot(kind='scatter', x='Weeks Since 3/1/2020', y='Asian', ax=ax)\n",
        "plt.xlabel('')\n",
        "plt.ylabel('')\n",
        "plt.title('Asian')\n",
        "\n",
        "\n",
        "ax = fig.add_subplot(2,4,3)\n",
        "df_Race_rates.plot(kind='scatter', x='Weeks Since 3/1/2020', y='White', ax=ax)\n",
        "plt.xlabel('')\n",
        "plt.ylabel('')\n",
        "plt.title('White')\n",
        "\n",
        "\n",
        "ax = fig.add_subplot(2,4,4)\n",
        "df_Race_rates.plot(kind='scatter', x='Weeks Since 3/1/2020', y='Multiple Races', ax=ax)\n",
        "plt.xlabel('')\n",
        "plt.ylabel('')\n",
        "plt.title('Multiple Races')\n",
        "\n",
        "plt.show()"
      ],
      "execution_count": 11,
      "outputs": [
        {
          "output_type": "stream",
          "text": [
            "*c* argument looks like a single numeric RGB or RGBA sequence, which should be avoided as value-mapping will have precedence in case its length matches with *x* & *y*.  Please use the *color* keyword-argument or provide a 2-D array with a single row if you intend to specify the same RGB or RGBA value for all points.\n",
            "*c* argument looks like a single numeric RGB or RGBA sequence, which should be avoided as value-mapping will have precedence in case its length matches with *x* & *y*.  Please use the *color* keyword-argument or provide a 2-D array with a single row if you intend to specify the same RGB or RGBA value for all points.\n",
            "*c* argument looks like a single numeric RGB or RGBA sequence, which should be avoided as value-mapping will have precedence in case its length matches with *x* & *y*.  Please use the *color* keyword-argument or provide a 2-D array with a single row if you intend to specify the same RGB or RGBA value for all points.\n",
            "*c* argument looks like a single numeric RGB or RGBA sequence, which should be avoided as value-mapping will have precedence in case its length matches with *x* & *y*.  Please use the *color* keyword-argument or provide a 2-D array with a single row if you intend to specify the same RGB or RGBA value for all points.\n"
          ],
          "name": "stderr"
        },
        {
          "output_type": "display_data",
          "data": {
            "image/png": "[encoded data removed]",
            "text/plain": [
              "<Figure size 432x288 with 4 Axes>"
            ]
          },
          "metadata": {
            "tags": [],
            "needs_background": "light"
          }
        }
      ]
    },
    {
      "cell_type": "code",
      "metadata": {
        "id": "DNQZ_kC55Fcy"
      },
      "source": [
        ""
      ],
      "execution_count": 6,
      "outputs": []
    },
    {
      "cell_type": "code",
      "metadata": {
        "colab": {
          "base_uri": "https://localhost:8080/",
          "height": 1000
        },
        "id": "KDyDboVDSUUR",
        "outputId": "43639dea-0d15-44e4-f3af-cc99c0e5853a"
      },
      "source": [
        "#create histogram \n",
        "\n",
        "import seaborn as sns\n",
        "sns.set(style=\"darkgrid\")\n",
        "sns.histplot(data=df_Race_rates, x=\"Weeks Since 3/1/2020\", y=\"White\")\n",
        "plt.show()\n",
        "\n",
        "sns.histplot(data=df_Race_rates, x=\"Weeks Since 3/1/2020\", y=\"Black or African American\")\n",
        "plt.show()\n",
        "\n",
        "sns.histplot(data=df_Race_rates, x=\"Weeks Since 3/1/2020\", y=\"Asian\")\n",
        "plt.show()\n",
        "\n",
        "sns.histplot(data=df_Race_rates, x=\"Weeks Since 3/1/2020\", y=\"Multiple Races\")\n",
        "plt.show() "
      ],
      "execution_count": 9,
      "outputs": [
        {
          "output_type": "display_data",
          "data": {
            "image/png": "[encoded data removed]",
            "text/plain": [
              "<Figure size 432x288 with 1 Axes>"
            ]
          },
          "metadata": {
            "tags": []
          }
        },
        {
          "output_type": "display_data",
          "data": {
            "image/png": "[encoded data removed]",
            "text/plain": [
              "<Figure size 432x288 with 1 Axes>"
            ]
          },
          "metadata": {
            "tags": []
          }
        },
        {
          "output_type": "display_data",
          "data": {
            "image/png": "[encoded data removed]",
            "text/plain": [
              "<Figure size 432x288 with 1 Axes>"
            ]
          },
          "metadata": {
            "tags": []
          }
        },
        {
          "output_type": "display_data",
          "data": {
            "image/png": "[encoded data removed]",
            "text/plain": [
              "<Figure size 432x288 with 1 Axes>"
            ]
          },
          "metadata": {
            "tags": []
          }
        }
      ]
    },
    {
      "cell_type": "code",
      "metadata": {
        "colab": {
          "base_uri": "https://localhost:8080/"
        },
        "id": "XCQKhBlVa-YT",
        "outputId": "99c9edce-e084-4d6f-993e-0a49739367d8"
      },
      "source": [
        "#Correlation plot for vaccines administered and age group in RI\n",
        "RI_Data_Demographics_Age=RI_Data_Demographics[0:12]\n",
        "RI_Data_Demographics_Age=RI_Data_Demographics_Age.replace('<5', 0)\n",
        "df = pd.DataFrame(RI_Data_Demographics_Age,columns=['Age Group', 'Total Vaccine Doses Administered'])\n",
        "print(df)\n",
        "\n",
        "corrMatrix = df.corr()\n",
        "#plt.matshow(corrMatrix)\n",
        "\n",
        "#plt.matshow(RI_Data_Demographics['Age Group', 'Total Vaccine Doses Administered'])"
      ],
      "execution_count": 86,
      "outputs": [
        {
          "output_type": "stream",
          "text": [
            "           Age Group Total Vaccine Doses Administered\n",
            "Age Group        NaN                        N=579,428\n",
            "0-4              NaN                                0\n",
            "5-9              NaN                                0\n",
            "10-14            NaN                                0\n",
            "15-18            NaN                             2936\n",
            "19-24            NaN                            20148\n",
            "25-29            NaN                            22917\n",
            "30-39            NaN                            52835\n",
            "40-49            NaN                            57610\n",
            "50-59            NaN                            84182\n",
            "60-69            NaN                           149347\n",
            "70-79            NaN                           121052\n"
          ],
          "name": "stdout"
        }
      ]
    },
    {
      "cell_type": "code",
      "metadata": {
        "id": "v3afJfvdvs7g"
      },
      "source": [
        "!pip install plotly==4.14.3\n",
        "!pip install plotly-geo\n",
        "!pip install geopandas\n",
        "!pip install pyshp\n",
        "!pip install shapely"
      ],
      "execution_count": null,
      "outputs": []
    },
    {
      "cell_type": "code",
      "metadata": {
        "id": "-0uPTfKpmsxS"
      },
      "source": [
        "#Read in dataset Rhode Island Demographics\n",
        "Download_Data4= drive.CreateFile({'id':'1a87E9gsZqLSa1pBEEBrlUsKtGUS5sTs1'})\n",
        "Download_Data4.GetContentFile('COVID-19 Rhode Island Data - Municipal Rate Trends.csv')\n",
        "RI_Data_Municipality_Rates=pd.read_csv('COVID-19 Rhode Island Data - Municipal Rate Trends.csv', skiprows=7, skip_blank_lines='true')\n",
        "\n",
        "#Remove row with total population\n",
        "RI_Data_Municipality_Rates.drop([0])\n",
        "\n",
        "\n",
        "#Replace asteriks with 0\n",
        "mydf1=RI_Data_Municipality_Rates.replace('*', 0)\n",
        "mydf1=mydf1.replace(',', '')\n",
        "mydf1=mydf1.drop([0])\n",
        "mydf1.head()\n",
        "\n",
        "#changed string to int to calculate cumsum\n",
        "Barrington=np.cumsum(mydf1['BARRINGTON'].to_numpy(dtype=np.float32))\n",
        "Bristol=np.cumsum(mydf1['BRISTOL'].to_numpy(dtype=np.float32))\n",
        "Burrillville=np.cumsum(mydf1['BURRILLVILLE'].to_numpy(dtype=np.float32))\n",
        "Central_falls=np.cumsum(mydf1['CENTRAL FALLS'].to_numpy(dtype=np.float32))\n",
        "Charlestown=np.cumsum(mydf1['CHARLESTOWN'].to_numpy(dtype=np.float32))\n",
        "Coventry=np.cumsum(mydf1['COVENTRY'].to_numpy(dtype=np.float32))\n",
        "Cranston=np.cumsum(mydf1['CRANSTON'].to_numpy(dtype=np.float32))\n",
        "Cumberland=np.cumsum(mydf1['CUMBERLAND'].to_numpy(dtype=np.float32))\n",
        "East_Greenwich=np.cumsum(mydf1['EAST GREENWICH'].to_numpy(dtype=np.float32))\n",
        "East_Providence=np.cumsum(mydf1['EAST PROVIDENCE'].to_numpy(dtype=np.float32))\n",
        "Exeter=np.cumsum(mydf1['EXETER'].to_numpy(dtype=np.float32))\n",
        "Foster=np.cumsum(mydf1['FOSTER'].to_numpy(dtype=np.float32))\n",
        "Glocester=np.cumsum(mydf1['GLOCESTER'].to_numpy(dtype=np.float32))\n",
        "Hopkinton=np.cumsum(mydf1['HOPKINTON'].to_numpy(dtype=np.float32))\n",
        "Jamestown=np.cumsum(mydf1['JAMESTOWN'].to_numpy(dtype=np.float32))\n",
        "Johnston=np.cumsum(mydf1['JOHNSTON'].to_numpy(dtype=np.float32))\n",
        "Lincoln=np.cumsum(mydf1['LINCOLN'].to_numpy(dtype=np.float32))\n",
        "Little_Compton=np.cumsum(mydf1['LITTLE COMPTON'].to_numpy(dtype=np.float32))\n",
        "Middletown=np.cumsum(mydf1['MIDDLETOWN'].to_numpy(dtype=np.float32))\n",
        "Narragansett=np.cumsum(mydf1['NARRAGANSETT'].to_numpy(dtype=np.float32))\n",
        "New_Shoreham=np.cumsum(mydf1['NEW SHOREHAM'].to_numpy(dtype=np.float32))\n",
        "Newport=np.cumsum(mydf1['NEWPORT'].to_numpy(dtype=np.float32))\n",
        "North_Kingstown=np.cumsum(mydf1['NORTH KINGSTOWN'].to_numpy(dtype=np.float32))\n",
        "North_Providence=np.cumsum(mydf1['NORTH PROVIDENCE'].to_numpy(dtype=np.float32))\n",
        "North_Smithfield=np.cumsum(mydf1['NORTH SMITHFIELD'].to_numpy(dtype=np.float32))\n",
        "Pawtucket=np.cumsum(mydf1['PAWTUCKET'].to_numpy(dtype=np.float32))\n",
        "Portsmouth=np.cumsum(mydf1['PORTSMOUTH'].to_numpy(dtype=np.float32))\n",
        "Providence=np.cumsum(mydf1['PROVIDENCE'].to_numpy(dtype=np.float32))\n",
        "Richmond=np.cumsum(mydf1['RICHMOND'].to_numpy(dtype=np.float32))\n",
        "Scituate=np.cumsum(mydf1['SCITUATE'].to_numpy(dtype=np.float32))\n",
        "Smithfield=np.cumsum(mydf1['SMITHFIELD'].to_numpy(dtype=np.float32))\n",
        "South_Kingstown=np.cumsum(mydf1['SOUTH KINGSTOWN'].to_numpy(dtype=np.float32))\n",
        "Tiverton=np.cumsum(mydf1['TIVERTON'].to_numpy(dtype=np.float32))\n",
        "Warren=np.cumsum(mydf1['WARREN'].to_numpy(dtype=np.float32))\n",
        "Warwick=np.cumsum(mydf1['WARWICK'].to_numpy(dtype=np.float32))\n",
        "West_Greenwich=np.cumsum(mydf1['WEST GREENWICH'].to_numpy(dtype=np.float32))\n",
        "West_Warwick=np.cumsum(mydf1['WEST WARWICK'].to_numpy(dtype=np.float32))\n",
        "Westerly=np.cumsum(mydf1['WESTERLY'].to_numpy(dtype=np.float32))\n",
        "Woonsocket=np.cumsum(mydf1['WOONSOCKET'].to_numpy(dtype=np.float32))\n",
        "\n",
        "\n"
      ],
      "execution_count": 63,
      "outputs": []
    },
    {
      "cell_type": "code",
      "metadata": {
        "colab": {
          "base_uri": "https://localhost:8080/",
          "height": 232
        },
        "id": "vX1URKleTiGX",
        "outputId": "4f5cc9bf-4a08-475b-9c7d-3a25dc3290e7"
      },
      "source": [
        "# Load the county boundary coordinates\n",
        "from urllib.request import urlopen\n",
        "import json\n",
        "with urlopen('https://raw.githubusercontent.com/plotly/datasets/master/geojson-counties-fips.json') as response:\n",
        "    counties = json.load(response)\n",
        "import plotly.figure_factory as ff\n",
        "\n",
        "pa_fips = pa_race_covid['FIPS'].tolist()\n",
        "RI_Towns = RI_Data_Municipality_Rates['BARRINGTON'].tolist()\n",
        "RI_Towns = RI_Data_Municipality_Rates['BRISTOL'].tolist()\n",
        "RI_Towns = RI_Data_Municipality_Rates['BURRILLVILLE'].tolist()\n",
        "RI_Towns_endpts = list(np.mgrid[min(RI_Towns):max(RI_Towns):5j])\n",
        "RI_Towns_fig = ff.create_choropleth(pa_fips, RI_Towns, scope=['Rhode Island'], show_state_data=True, \n",
        "                           binning_endpoints=RI_Town_endpts,\n",
        "                           simplify_county = 0, simplify_state = 0,\n",
        "                           show_hover = True, title = 'Covid Rates by Town',\n",
        "                           legend_title='Covid Rates',\n",
        "                           county_outline={'color': 'rgb(255,255,255)', 'width': 0.2})\n",
        "RI_Towns_fig.show()\n",
        "\n",
        "# Improve the legend\n",
        "fig.update_layout(coloraxis_colorbar=dict(\n",
        "    thicknessmode=\"pixels\", thickness=10,\n",
        "    lenmode=\"pixels\", len=150,\n",
        "    yanchor=\"top\", y=0.8,\n",
        "    ticks=\"outside\", ticksuffix=\" %\",\n",
        "    dtick=5\n",
        "))\n",
        "\n",
        "fig.show()"
      ],
      "execution_count": 17,
      "outputs": [
        {
          "output_type": "error",
          "ename": "NameError",
          "evalue": "ignored",
          "traceback": [
            "\u001b[0;31m---------------------------------------------------------------------------\u001b[0m",
            "\u001b[0;31mNameError\u001b[0m                                 Traceback (most recent call last)",
            "\u001b[0;32m<ipython-input-17-12bac1478f99>\u001b[0m in \u001b[0;36m<module>\u001b[0;34m()\u001b[0m\n\u001b[1;32m      8\u001b[0m \u001b[0mRI_Towns\u001b[0m \u001b[0;34m=\u001b[0m \u001b[0mRI_Data_Municipality_Rates\u001b[0m\u001b[0;34m[\u001b[0m\u001b[0;34m'BARRINGTON'\u001b[0m\u001b[0;34m]\u001b[0m\u001b[0;34m.\u001b[0m\u001b[0mtolist\u001b[0m\u001b[0;34m(\u001b[0m\u001b[0;34m)\u001b[0m\u001b[0;34m\u001b[0m\u001b[0;34m\u001b[0m\u001b[0m\n\u001b[1;32m      9\u001b[0m \u001b[0mRI_Towns_endpts\u001b[0m \u001b[0;34m=\u001b[0m \u001b[0mlist\u001b[0m\u001b[0;34m(\u001b[0m\u001b[0mnp\u001b[0m\u001b[0;34m.\u001b[0m\u001b[0mmgrid\u001b[0m\u001b[0;34m[\u001b[0m\u001b[0mmin\u001b[0m\u001b[0;34m(\u001b[0m\u001b[0mRI_Towns\u001b[0m\u001b[0;34m)\u001b[0m\u001b[0;34m:\u001b[0m\u001b[0mmax\u001b[0m\u001b[0;34m(\u001b[0m\u001b[0mRI_Towns\u001b[0m\u001b[0;34m)\u001b[0m\u001b[0;34m:\u001b[0m\u001b[0;36m5j\u001b[0m\u001b[0;34m]\u001b[0m\u001b[0;34m)\u001b[0m\u001b[0;34m\u001b[0m\u001b[0;34m\u001b[0m\u001b[0m\n\u001b[0;32m---> 10\u001b[0;31m RI_Towns_fig = ff.create_choropleth(pa_fips, RI_Towns, scope=['Rhode Island'], show_state_data=True, \n\u001b[0m\u001b[1;32m     11\u001b[0m                            \u001b[0mbinning_endpoints\u001b[0m\u001b[0;34m=\u001b[0m\u001b[0mRI_Town_endpts\u001b[0m\u001b[0;34m,\u001b[0m\u001b[0;34m\u001b[0m\u001b[0;34m\u001b[0m\u001b[0m\n\u001b[1;32m     12\u001b[0m                            \u001b[0msimplify_county\u001b[0m \u001b[0;34m=\u001b[0m \u001b[0;36m0\u001b[0m\u001b[0;34m,\u001b[0m \u001b[0msimplify_state\u001b[0m \u001b[0;34m=\u001b[0m \u001b[0;36m0\u001b[0m\u001b[0;34m,\u001b[0m\u001b[0;34m\u001b[0m\u001b[0;34m\u001b[0m\u001b[0m\n",
            "\u001b[0;31mNameError\u001b[0m: name 'pa_fips' is not defined"
          ]
        }
      ]
    },
    {
      "cell_type": "markdown",
      "metadata": {
        "id": "FfZBhkbm8Fij"
      },
      "source": [
        "Check to see if really need the averages, or how to visually display- maybe box and wisker"
      ]
    },
    {
      "cell_type": "code",
      "metadata": {
        "colab": {
          "base_uri": "https://localhost:8080/",
          "height": 663
        },
        "id": "1Hb9KeJEBNrW",
        "outputId": "501e97e5-436e-4b78-83fa-1e026601b047"
      },
      "source": [
        "#one way ANOVA: Is there a statistical difference between COVID cases since March 1st by race in RI?\n",
        "Asian_av=[np.mean(mydf['Asian'].to_numpy(dtype=np.float32))]\n",
        "Black_av=[np.mean(mydf['Black or African American'].to_numpy(dtype=np.float32))]\n",
        "Mult_av=[np.mean(mydf['Multiple race'].to_numpy(dtype=np.float32))]\n",
        "White_av=[np.mean(mydf['White'].to_numpy(dtype=np.float32))]\n",
        "\n",
        "#Create new dataset with average number of cases per week since March 1, 2020\n",
        "Race_av={'Asian':Asian_av, 'Black or African American':Black_av, 'White':White_av, 'Multiple Races':Mult_av, 'Average number of cases per week since 3/1/2020':1}\n",
        "df_Race_av = pd.DataFrame(Race_av, index=[1])\n",
        "\n",
        "#Not totally sure if this boxplot is conceptually correct\n",
        "ig, ax = plt.subplots()\n",
        "ax.boxplot(df_Race_av)\n",
        "\n",
        "Asian1=mydf['Asian']\n",
        "White1=mydf['White']\n",
        "Black1=mydf['Black or African American']\n",
        "Mult1=mydf['Multiple race']\n",
        "\n",
        "#Create Dataset\n",
        "Race={'Race':['Asian','White','Black or African American','Multiple Races'], 'Cases': [Asian1, White1, Black1, Mult1]}\n",
        "df_Race=pd.DataFrame(Race)\n",
        "\n",
        "#ANOVA to determine if there is a statistical difference between the number of cases each week since 3/1/2020 by race in RI\n",
        "F,p=scipy.stats.f_oneway(White1, Black1, Mult1, Asian1)\n",
        "#F,p=scipy.stats.f_oneway(White, Black_or_African_American, Multiple_race, Asian)\n",
        "print('F statistic = {:5.3f} and probability p = {:5.3f}'.format(F, p)) \n",
        "\n",
        "#Post hoc test to look at which relationships are significantly different\n",
        "from statsmodels.stats.multicomp import pairwise_tukeyhsd\n",
        "tukey = pairwise_tukeyhsd(endog=df_Race['Cases'], groups=df_Race['Race'],alpha=0.05)\n",
        "\n"
      ],
      "execution_count": 81,
      "outputs": [
        {
          "output_type": "stream",
          "text": [
            "F statistic = 40.598 and probability p = 0.000\n"
          ],
          "name": "stdout"
        },
        {
          "output_type": "error",
          "ename": "TypeError",
          "evalue": "ignored",
          "traceback": [
            "\u001b[0;31m---------------------------------------------------------------------------\u001b[0m",
            "\u001b[0;31mTypeError\u001b[0m                                 Traceback (most recent call last)",
            "\u001b[0;32m<ipython-input-81-5d119e597d0f>\u001b[0m in \u001b[0;36m<module>\u001b[0;34m()\u001b[0m\n\u001b[1;32m     27\u001b[0m \u001b[0;34m\u001b[0m\u001b[0m\n\u001b[1;32m     28\u001b[0m \u001b[0;32mfrom\u001b[0m \u001b[0mstatsmodels\u001b[0m\u001b[0;34m.\u001b[0m\u001b[0mstats\u001b[0m\u001b[0;34m.\u001b[0m\u001b[0mmulticomp\u001b[0m \u001b[0;32mimport\u001b[0m \u001b[0mpairwise_tukeyhsd\u001b[0m\u001b[0;34m\u001b[0m\u001b[0;34m\u001b[0m\u001b[0m\n\u001b[0;32m---> 29\u001b[0;31m \u001b[0mtukey\u001b[0m \u001b[0;34m=\u001b[0m \u001b[0mpairwise_tukeyhsd\u001b[0m\u001b[0;34m(\u001b[0m\u001b[0mendog\u001b[0m\u001b[0;34m=\u001b[0m\u001b[0mdf_Race\u001b[0m\u001b[0;34m[\u001b[0m\u001b[0;34m'Cases'\u001b[0m\u001b[0;34m]\u001b[0m\u001b[0;34m,\u001b[0m \u001b[0mgroups\u001b[0m\u001b[0;34m=\u001b[0m\u001b[0mdf_Race\u001b[0m\u001b[0;34m[\u001b[0m\u001b[0;34m'Race'\u001b[0m\u001b[0;34m]\u001b[0m\u001b[0;34m,\u001b[0m\u001b[0malpha\u001b[0m\u001b[0;34m=\u001b[0m\u001b[0;36m0.05\u001b[0m\u001b[0;34m)\u001b[0m\u001b[0;34m\u001b[0m\u001b[0;34m\u001b[0m\u001b[0m\n\u001b[0m\u001b[1;32m     30\u001b[0m \u001b[0;34m\u001b[0m\u001b[0m\n",
            "\u001b[0;32m/usr/local/lib/python3.7/dist-packages/statsmodels/stats/multicomp.py\u001b[0m in \u001b[0;36mpairwise_tukeyhsd\u001b[0;34m(endog, groups, alpha)\u001b[0m\n\u001b[1;32m     42\u001b[0m     \"\"\"\n\u001b[1;32m     43\u001b[0m \u001b[0;34m\u001b[0m\u001b[0m\n\u001b[0;32m---> 44\u001b[0;31m     \u001b[0;32mreturn\u001b[0m \u001b[0mMultiComparison\u001b[0m\u001b[0;34m(\u001b[0m\u001b[0mendog\u001b[0m\u001b[0;34m,\u001b[0m \u001b[0mgroups\u001b[0m\u001b[0;34m)\u001b[0m\u001b[0;34m.\u001b[0m\u001b[0mtukeyhsd\u001b[0m\u001b[0;34m(\u001b[0m\u001b[0malpha\u001b[0m\u001b[0;34m=\u001b[0m\u001b[0malpha\u001b[0m\u001b[0;34m)\u001b[0m\u001b[0;34m\u001b[0m\u001b[0;34m\u001b[0m\u001b[0m\n\u001b[0m",
            "\u001b[0;32m/usr/local/lib/python3.7/dist-packages/statsmodels/sandbox/stats/multicomp.py\u001b[0m in \u001b[0;36mtukeyhsd\u001b[0;34m(self, alpha)\u001b[0m\n\u001b[1;32m    994\u001b[0m         self.groupstats = GroupsStats(\n\u001b[1;32m    995\u001b[0m             \u001b[0mnp\u001b[0m\u001b[0;34m.\u001b[0m\u001b[0mcolumn_stack\u001b[0m\u001b[0;34m(\u001b[0m\u001b[0;34m[\u001b[0m\u001b[0mself\u001b[0m\u001b[0;34m.\u001b[0m\u001b[0mdata\u001b[0m\u001b[0;34m,\u001b[0m \u001b[0mself\u001b[0m\u001b[0;34m.\u001b[0m\u001b[0mgroupintlab\u001b[0m\u001b[0;34m]\u001b[0m\u001b[0;34m)\u001b[0m\u001b[0;34m,\u001b[0m\u001b[0;34m\u001b[0m\u001b[0;34m\u001b[0m\u001b[0m\n\u001b[0;32m--> 996\u001b[0;31m             useranks=False)\n\u001b[0m\u001b[1;32m    997\u001b[0m \u001b[0;34m\u001b[0m\u001b[0m\n\u001b[1;32m    998\u001b[0m         \u001b[0mgmeans\u001b[0m \u001b[0;34m=\u001b[0m \u001b[0mself\u001b[0m\u001b[0;34m.\u001b[0m\u001b[0mgroupstats\u001b[0m\u001b[0;34m.\u001b[0m\u001b[0mgroupmean\u001b[0m\u001b[0;34m\u001b[0m\u001b[0;34m\u001b[0m\u001b[0m\n",
            "\u001b[0;32m/usr/local/lib/python3.7/dist-packages/statsmodels/sandbox/stats/multicomp.py\u001b[0m in \u001b[0;36m__init__\u001b[0;34m(self, x, useranks, uni, intlab)\u001b[0m\n\u001b[1;32m    559\u001b[0m \u001b[0;34m\u001b[0m\u001b[0m\n\u001b[1;32m    560\u001b[0m         \u001b[0;31m#temporary until separated and made all lazy\u001b[0m\u001b[0;34m\u001b[0m\u001b[0;34m\u001b[0m\u001b[0;34m\u001b[0m\u001b[0m\n\u001b[0;32m--> 561\u001b[0;31m         \u001b[0mself\u001b[0m\u001b[0;34m.\u001b[0m\u001b[0mrunbasic\u001b[0m\u001b[0;34m(\u001b[0m\u001b[0museranks\u001b[0m\u001b[0;34m=\u001b[0m\u001b[0museranks\u001b[0m\u001b[0;34m)\u001b[0m\u001b[0;34m\u001b[0m\u001b[0;34m\u001b[0m\u001b[0m\n\u001b[0m\u001b[1;32m    562\u001b[0m \u001b[0;34m\u001b[0m\u001b[0m\n\u001b[1;32m    563\u001b[0m \u001b[0;34m\u001b[0m\u001b[0m\n",
            "\u001b[0;32m/usr/local/lib/python3.7/dist-packages/statsmodels/sandbox/stats/multicomp.py\u001b[0m in \u001b[0;36mrunbasic\u001b[0;34m(self, useranks)\u001b[0m\n\u001b[1;32m    595\u001b[0m         \u001b[0;32melse\u001b[0m\u001b[0;34m:\u001b[0m\u001b[0;34m\u001b[0m\u001b[0;34m\u001b[0m\u001b[0m\n\u001b[1;32m    596\u001b[0m             \u001b[0mself\u001b[0m\u001b[0;34m.\u001b[0m\u001b[0mxx\u001b[0m \u001b[0;34m=\u001b[0m \u001b[0mx\u001b[0m\u001b[0;34m[\u001b[0m\u001b[0;34m:\u001b[0m\u001b[0;34m,\u001b[0m\u001b[0;36m0\u001b[0m\u001b[0;34m]\u001b[0m\u001b[0;34m\u001b[0m\u001b[0;34m\u001b[0m\u001b[0m\n\u001b[0;32m--> 597\u001b[0;31m         \u001b[0mself\u001b[0m\u001b[0;34m.\u001b[0m\u001b[0mgroupsum\u001b[0m \u001b[0;34m=\u001b[0m \u001b[0mgroupranksum\u001b[0m \u001b[0;34m=\u001b[0m \u001b[0mnp\u001b[0m\u001b[0;34m.\u001b[0m\u001b[0mbincount\u001b[0m\u001b[0;34m(\u001b[0m\u001b[0mself\u001b[0m\u001b[0;34m.\u001b[0m\u001b[0mintlab\u001b[0m\u001b[0;34m,\u001b[0m \u001b[0mweights\u001b[0m\u001b[0;34m=\u001b[0m\u001b[0mself\u001b[0m\u001b[0;34m.\u001b[0m\u001b[0mxx\u001b[0m\u001b[0;34m)\u001b[0m\u001b[0;34m\u001b[0m\u001b[0;34m\u001b[0m\u001b[0m\n\u001b[0m\u001b[1;32m    598\u001b[0m         \u001b[0;31m#print('groupranksum', groupranksum, groupranksum.shape, self.groupnobs.shape\u001b[0m\u001b[0;34m\u001b[0m\u001b[0;34m\u001b[0m\u001b[0;34m\u001b[0m\u001b[0m\n\u001b[1;32m    599\u001b[0m         \u001b[0;31m# start at 1 for stats.rankdata :\u001b[0m\u001b[0;34m\u001b[0m\u001b[0;34m\u001b[0m\u001b[0;34m\u001b[0m\u001b[0m\n",
            "\u001b[0;32m<__array_function__ internals>\u001b[0m in \u001b[0;36mbincount\u001b[0;34m(*args, **kwargs)\u001b[0m\n",
            "\u001b[0;31mTypeError\u001b[0m: Cannot cast array data from dtype('O') to dtype('float64') according to the rule 'safe'"
          ]
        },
        {
          "output_type": "display_data",
          "data": {
            "image/png": "[encoded data removed]",
            "text/plain": [
              "<Figure size 432x288 with 1 Axes>"
            ]
          },
          "metadata": {
            "tags": [],
            "needs_background": "light"
          }
        }
      ]
    },
    {
      "cell_type": "markdown",
      "metadata": {
        "id": "lcZ5tW80FfoR"
      },
      "source": [
        "There is enough evidence to reject the null hypothesis that there is no significant difference in COVID cases by race in RI.\n"
      ]
    }
  ]
}