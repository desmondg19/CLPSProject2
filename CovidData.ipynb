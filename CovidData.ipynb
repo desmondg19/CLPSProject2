{
  "nbformat": 4,
  "nbformat_minor": 0,
  "metadata": {
    "colab": {
      "name": "CovidData.ipynb",
      "provenance": [],
      "collapsed_sections": [],
      "mount_file_id": "1GP2F2wmOrWAWFZndtiMjbeP9tGjtnjdj",
      "authorship_tag": "ABX9TyOvbbF/Lb6qvpvL9Wfy2yqJ",
      "include_colab_link": true
    },
    "kernelspec": {
      "name": "python3",
      "display_name": "Python 3"
    },
    "language_info": {
      "name": "python"
    }
  },
  "cells": [
    {
      "cell_type": "markdown",
      "metadata": {
        "id": "view-in-github",
        "colab_type": "text"
      },
      "source": [
        "<a href=\"https://colab.research.google.com/github/desmondg19/CLPSProject2/blob/main/CovidData.ipynb\" target=\"_parent\"><img src=\"https://colab.research.google.com/assets/colab-badge.svg\" alt=\"Open In Colab\"/></a>"
      ]
    },
    {
      "cell_type": "markdown",
      "metadata": {
        "id": "LOAnNA6yBtfE"
      },
      "source": [
        "Test Commit"
      ]
    }
  ]
}